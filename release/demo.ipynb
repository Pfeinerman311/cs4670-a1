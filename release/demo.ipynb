{
 "cells": [
  {
   "cell_type": "code",
   "execution_count": null,
   "id": "quick-ballet",
   "metadata": {},
   "outputs": [],
   "source": [
    "%pylab \n",
    "%matplotlib inline\n",
    "import utils\n",
    "import student"
   ]
  },
  {
   "cell_type": "code",
   "execution_count": null,
   "id": "bibliographic-victim",
   "metadata": {},
   "outputs": [],
   "source": [
    "img = utils.imread('demo_resources/dark-page-gray.jpg')\n",
    "grayscale_img = utils.rgb2gray(img)\n",
    "utils.imshow(grayscale_img)"
   ]
  },
  {
   "cell_type": "code",
   "execution_count": null,
   "id": "victorian-radar",
   "metadata": {},
   "outputs": [],
   "source": [
    "#multiply by 10\n",
    "higher_contrast = student.multiply(grayscale_img,10)\n",
    "utils.imshow(higher_contrast)"
   ]
  },
  {
   "cell_type": "code",
   "execution_count": null,
   "id": "ultimate-advice",
   "metadata": {},
   "outputs": [],
   "source": [
    "#threshold\n",
    "thresholded = student.threshold(higher_contrast,0.5)\n",
    "utils.imshow(thresholded)"
   ]
  },
  {
   "cell_type": "code",
   "execution_count": null,
   "id": "compound-people",
   "metadata": {},
   "outputs": [],
   "source": [
    "# mean filter\n",
    "mean_filter = student.mean_filter(7)\n",
    "filtered = student.convolve(higher_contrast, mean_filter)\n",
    "utils.imshow(filtered)"
   ]
  },
  {
   "cell_type": "code",
   "execution_count": null,
   "id": "polished-story",
   "metadata": {},
   "outputs": [],
   "source": [
    "#filtered and thresholded\n",
    "filtered_thresholded = student.threshold(filtered, 0.5)\n",
    "utils.imshow(filtered_thresholded)"
   ]
  },
  {
   "cell_type": "code",
   "execution_count": null,
   "id": "improving-organization",
   "metadata": {},
   "outputs": [],
   "source": [
    "# save images\n",
    "utils.imwrite(higher_contrast, 'higher_contrast.jpg')\n",
    "utils.imwrite(filtered, 'filtered.jpg')\n",
    "utils.imwrite(thresholded, 'thresholded.jpg')\n",
    "utils.imwrite(filtered_thresholded, 'filtered_thresholded.jpg')"
   ]
  },
  {
   "cell_type": "code",
   "execution_count": null,
   "id": "rubber-sunday",
   "metadata": {},
   "outputs": [],
   "source": [
    "img2 = utils.rgb2gray(utils.imread('demo_resources/126007_bsds.jpg'))\n",
    "utils.imshow(img2)"
   ]
  },
  {
   "cell_type": "code",
   "execution_count": null,
   "id": "under-spine",
   "metadata": {},
   "outputs": [],
   "source": [
    "gmag = student.gradient_magnitude(img2, 5,1)\n",
    "gmag = student.normalize(gmag)\n",
    "utils.imshow(gmag)"
   ]
  },
  {
   "cell_type": "code",
   "execution_count": null,
   "id": "derived-congress",
   "metadata": {},
   "outputs": [],
   "source": [
    "gmag_thresh = student.threshold(gmag, 0.1)\n",
    "utils.imshow(gmag_thresh)"
   ]
  },
  {
   "cell_type": "code",
   "execution_count": null,
   "id": "meaning-daily",
   "metadata": {},
   "outputs": [],
   "source": []
  }
 ],
 "metadata": {
  "kernelspec": {
   "display_name": "Python 3",
   "language": "python",
   "name": "python3"
  },
  "language_info": {
   "codemirror_mode": {
    "name": "ipython",
    "version": 3
   },
   "file_extension": ".py",
   "mimetype": "text/x-python",
   "name": "python",
   "nbconvert_exporter": "python",
   "pygments_lexer": "ipython3",
   "version": "3.7.4-final"
  }
 },
 "nbformat": 4,
 "nbformat_minor": 5
}